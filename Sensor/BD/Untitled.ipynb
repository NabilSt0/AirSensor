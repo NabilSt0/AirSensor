{
 "cells": [
  {
   "cell_type": "code",
   "execution_count": 3,
   "id": "1109bbb0",
   "metadata": {},
   "outputs": [],
   "source": [
    "# Importations nécessaires\n",
    "import pandas as pd\n",
    "from sklearn.model_selection import train_test_split\n",
    "from sklearn.linear_model import LinearRegression, Ridge, Lasso\n",
    "from sklearn.metrics import mean_squared_error\n",
    "import pickle"
   ]
  },
  {
   "cell_type": "code",
   "execution_count": 5,
   "id": "10a2fb4b",
   "metadata": {},
   "outputs": [
    {
     "name": "stdout",
     "output_type": "stream",
     "text": [
      "Linear Regression MSE: 0.10446374327846597\n",
      "Ridge Regression MSE: 0.10446605816633511\n",
      "Lasso Regression MSE: 0.1116323468770887\n"
     ]
    }
   ],
   "source": [
    "# Chargement des données\n",
    "df = pd.read_csv(\"C:\\\\Users\\\\AsusZenBook\\\\Desktop\\\\Sensor\\\\sensor_readings.csv\")\n",
    "\n",
    "# Préparation des données\n",
    "X = df[['TVOC_PPB', 'ECO2_PPM', 'RELATIVEHUMIDITY_PERCENT', 'PRESSURE_PA', 'TEMPERATURE_C']]\n",
    "y = df['AIRQUALITYINDEX']\n",
    "\n",
    "# Division des données en ensembles d'entraînement et de test\n",
    "X_train, X_test, y_train, y_test = train_test_split(X, y, test_size=0.2, random_state=42)\n",
    "\n",
    "# Initialisation des modèles\n",
    "models = {\n",
    "    'Linear Regression': LinearRegression(),\n",
    "    'Ridge Regression': Ridge(alpha=1.0),  # alpha est le paramètre de régularisation\n",
    "    'Lasso Regression': Lasso(alpha=0.1)\n",
    "}\n",
    "\n",
    "# Entraînement des modèles et évaluation\n",
    "for name, model in models.items():\n",
    "    model.fit(X_train, y_train)  # Entraînement du modèle\n",
    "    y_pred = model.predict(X_test)  # Prédictions sur l'ensemble de test\n",
    "    mse = mean_squared_error(y_test, y_pred)  # Calcul du Mean Squared Error\n",
    "    print(f\"{name} MSE: {mse}\")\n",
    "\n",
    "    # Sauvegarde du modèle (facultatif ici, choisi basé sur les performances)\n",
    "    # Exemple: Sauvegarde de tous les modèles\n",
    "    with open(f'{name.replace(\" \", \"_\").lower()}_model.pkl', 'wb') as file:\n",
    "        pickle.dump(model, file)\n",
    "\n",
    "\n",
    "#ridge is the best model based on MSE"
   ]
  }
 ],
 "metadata": {
  "kernelspec": {
   "display_name": "Python 3 (ipykernel)",
   "language": "python",
   "name": "python3"
  },
  "language_info": {
   "codemirror_mode": {
    "name": "ipython",
    "version": 3
   },
   "file_extension": ".py",
   "mimetype": "text/x-python",
   "name": "python",
   "nbconvert_exporter": "python",
   "pygments_lexer": "ipython3",
   "version": "3.10.9"
  }
 },
 "nbformat": 4,
 "nbformat_minor": 5
}
